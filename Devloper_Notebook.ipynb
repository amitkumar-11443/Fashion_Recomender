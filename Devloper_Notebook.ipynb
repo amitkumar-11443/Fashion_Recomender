{
 "cells": [
  {
   "cell_type": "code",
   "execution_count": 1,
   "id": "1b2ec95e",
   "metadata": {},
   "outputs": [
    {
     "name": "stdout",
     "output_type": "stream",
     "text": [
      "WARNING:tensorflow:From C:\\Users\\amitk\\anaconda3\\Lib\\site-packages\\keras\\src\\losses.py:2976: The name tf.losses.sparse_softmax_cross_entropy is deprecated. Please use tf.compat.v1.losses.sparse_softmax_cross_entropy instead.\n",
      "\n"
     ]
    }
   ],
   "source": [
    "from tensorflow.keras.preprocessing import image  # Import the file"
   ]
  },
  {
   "cell_type": "code",
   "execution_count": 2,
   "id": "4f8a936f",
   "metadata": {},
   "outputs": [],
   "source": [
    "img = image.load_img('Capture.PNG',target_size=(224,224))  #import a sample file also converting the image to a size"
   ]
  },
  {
   "cell_type": "code",
   "execution_count": 3,
   "id": "e5477890",
   "metadata": {},
   "outputs": [
    {
     "data": {
      "text/plain": [
       "array([[[239., 239., 239.],\n",
       "        [239., 239., 239.],\n",
       "        [239., 239., 239.],\n",
       "        ...,\n",
       "        [239., 239., 239.],\n",
       "        [239., 239., 239.],\n",
       "        [239., 239., 239.]],\n",
       "\n",
       "       [[239., 239., 239.],\n",
       "        [239., 239., 239.],\n",
       "        [239., 239., 239.],\n",
       "        ...,\n",
       "        [239., 239., 239.],\n",
       "        [239., 239., 239.],\n",
       "        [239., 239., 239.]],\n",
       "\n",
       "       [[239., 239., 239.],\n",
       "        [239., 239., 239.],\n",
       "        [239., 239., 239.],\n",
       "        ...,\n",
       "        [239., 239., 239.],\n",
       "        [239., 239., 239.],\n",
       "        [239., 239., 239.]],\n",
       "\n",
       "       ...,\n",
       "\n",
       "       [[239., 239., 239.],\n",
       "        [239., 239., 239.],\n",
       "        [239., 239., 239.],\n",
       "        ...,\n",
       "        [239., 239., 239.],\n",
       "        [239., 239., 239.],\n",
       "        [239., 239., 239.]],\n",
       "\n",
       "       [[239., 239., 239.],\n",
       "        [239., 239., 239.],\n",
       "        [239., 239., 239.],\n",
       "        ...,\n",
       "        [239., 239., 239.],\n",
       "        [239., 239., 239.],\n",
       "        [239., 239., 239.]],\n",
       "\n",
       "       [[239., 239., 239.],\n",
       "        [239., 239., 239.],\n",
       "        [239., 239., 239.],\n",
       "        ...,\n",
       "        [239., 239., 239.],\n",
       "        [239., 239., 239.],\n",
       "        [239., 239., 239.]]], dtype=float32)"
      ]
     },
     "execution_count": 3,
     "metadata": {},
     "output_type": "execute_result"
    }
   ],
   "source": [
    "img_array =image.img_to_array(img)   # convert the image to an numpy array ( ed array)\n",
    "img_array"
   ]
  },
  {
   "cell_type": "code",
   "execution_count": 4,
   "id": "18707a59",
   "metadata": {},
   "outputs": [
    {
     "data": {
      "text/plain": [
       "(224, 224, 3)"
      ]
     },
     "execution_count": 4,
     "metadata": {},
     "output_type": "execute_result"
    }
   ],
   "source": [
    "img_array.shape"
   ]
  },
  {
   "cell_type": "raw",
   "id": "29a433d0",
   "metadata": {},
   "source": [
    "We need to convert the image into a different array\n",
    "(1,224,224,3)  # as keras library works on batch on images hence needed to add 1( So "
   ]
  },
  {
   "cell_type": "code",
   "execution_count": 5,
   "id": "6c276516",
   "metadata": {},
   "outputs": [
    {
     "name": "stdout",
     "output_type": "stream",
     "text": [
      "(1, 224, 224, 3)\n"
     ]
    }
   ],
   "source": [
    "# so we add expand image array \n",
    "import numpy as np\n",
    "expanded_img_array = np.expand_dims(img_array,axis=0)\n",
    "print(expanded_img_array.shape)"
   ]
  },
  {
   "cell_type": "code",
   "execution_count": 6,
   "id": "c3d15959",
   "metadata": {},
   "outputs": [
    {
     "data": {
      "text/plain": [
       "array([[[[239., 239., 239.],\n",
       "         [239., 239., 239.],\n",
       "         [239., 239., 239.],\n",
       "         ...,\n",
       "         [239., 239., 239.],\n",
       "         [239., 239., 239.],\n",
       "         [239., 239., 239.]],\n",
       "\n",
       "        [[239., 239., 239.],\n",
       "         [239., 239., 239.],\n",
       "         [239., 239., 239.],\n",
       "         ...,\n",
       "         [239., 239., 239.],\n",
       "         [239., 239., 239.],\n",
       "         [239., 239., 239.]],\n",
       "\n",
       "        [[239., 239., 239.],\n",
       "         [239., 239., 239.],\n",
       "         [239., 239., 239.],\n",
       "         ...,\n",
       "         [239., 239., 239.],\n",
       "         [239., 239., 239.],\n",
       "         [239., 239., 239.]],\n",
       "\n",
       "        ...,\n",
       "\n",
       "        [[239., 239., 239.],\n",
       "         [239., 239., 239.],\n",
       "         [239., 239., 239.],\n",
       "         ...,\n",
       "         [239., 239., 239.],\n",
       "         [239., 239., 239.],\n",
       "         [239., 239., 239.]],\n",
       "\n",
       "        [[239., 239., 239.],\n",
       "         [239., 239., 239.],\n",
       "         [239., 239., 239.],\n",
       "         ...,\n",
       "         [239., 239., 239.],\n",
       "         [239., 239., 239.],\n",
       "         [239., 239., 239.]],\n",
       "\n",
       "        [[239., 239., 239.],\n",
       "         [239., 239., 239.],\n",
       "         [239., 239., 239.],\n",
       "         ...,\n",
       "         [239., 239., 239.],\n",
       "         [239., 239., 239.],\n",
       "         [239., 239., 239.]]]], dtype=float32)"
      ]
     },
     "execution_count": 6,
     "metadata": {},
     "output_type": "execute_result"
    }
   ],
   "source": [
    "expanded_img_array  # now 3d image ( RGB) has bcome 4 d array with batch having only 1 image  "
   ]
  },
  {
   "cell_type": "code",
   "execution_count": 7,
   "id": "32da64f5",
   "metadata": {},
   "outputs": [],
   "source": [
    "import tensorflow\n",
    "from tensorflow.keras.preprocessing import image\n",
    "from tensorflow.keras.layers import GlobalMaxPooling2D"
   ]
  },
  {
   "cell_type": "code",
   "execution_count": 8,
   "id": "5344a33c",
   "metadata": {},
   "outputs": [],
   "source": [
    "from tensorflow.keras.applications.resnet50 import ResNet50,preprocess_input"
   ]
  },
  {
   "cell_type": "code",
   "execution_count": 9,
   "id": "e10b90dd",
   "metadata": {},
   "outputs": [
    {
     "name": "stdout",
     "output_type": "stream",
     "text": [
      "WARNING:tensorflow:From C:\\Users\\amitk\\anaconda3\\Lib\\site-packages\\keras\\src\\backend.py:1398: The name tf.executing_eagerly_outside_functions is deprecated. Please use tf.compat.v1.executing_eagerly_outside_functions instead.\n",
      "\n",
      "WARNING:tensorflow:From C:\\Users\\amitk\\anaconda3\\Lib\\site-packages\\keras\\src\\layers\\normalization\\batch_normalization.py:979: The name tf.nn.fused_batch_norm is deprecated. Please use tf.compat.v1.nn.fused_batch_norm instead.\n",
      "\n"
     ]
    }
   ],
   "source": [
    "model = ResNet50(weights='imagenet',include_top=False,input_shape=(224,224,3))  # Model scale down image 224,224,3 \n",
    "                                                                                # incluse False as we creating top layer\n",
    "                                                                                # We are not training model we are using\n",
    "model.trainable = False\n",
    "\n",
    "model = tensorflow.keras.Sequential([\n",
    "    model,\n",
    "    GlobalMaxPooling2D()                                                        # this is our top layer\n",
    "])"
   ]
  },
  {
   "cell_type": "code",
   "execution_count": 10,
   "id": "eac7a946",
   "metadata": {},
   "outputs": [
    {
     "name": "stdout",
     "output_type": "stream",
     "text": [
      "(1, 224, 224, 3)\n"
     ]
    },
    {
     "data": {
      "text/plain": [
       "array([[[[135.061, 122.221, 115.32 ],\n",
       "         [135.061, 122.221, 115.32 ],\n",
       "         [135.061, 122.221, 115.32 ],\n",
       "         ...,\n",
       "         [135.061, 122.221, 115.32 ],\n",
       "         [135.061, 122.221, 115.32 ],\n",
       "         [135.061, 122.221, 115.32 ]],\n",
       "\n",
       "        [[135.061, 122.221, 115.32 ],\n",
       "         [135.061, 122.221, 115.32 ],\n",
       "         [135.061, 122.221, 115.32 ],\n",
       "         ...,\n",
       "         [135.061, 122.221, 115.32 ],\n",
       "         [135.061, 122.221, 115.32 ],\n",
       "         [135.061, 122.221, 115.32 ]],\n",
       "\n",
       "        [[135.061, 122.221, 115.32 ],\n",
       "         [135.061, 122.221, 115.32 ],\n",
       "         [135.061, 122.221, 115.32 ],\n",
       "         ...,\n",
       "         [135.061, 122.221, 115.32 ],\n",
       "         [135.061, 122.221, 115.32 ],\n",
       "         [135.061, 122.221, 115.32 ]],\n",
       "\n",
       "        ...,\n",
       "\n",
       "        [[135.061, 122.221, 115.32 ],\n",
       "         [135.061, 122.221, 115.32 ],\n",
       "         [135.061, 122.221, 115.32 ],\n",
       "         ...,\n",
       "         [135.061, 122.221, 115.32 ],\n",
       "         [135.061, 122.221, 115.32 ],\n",
       "         [135.061, 122.221, 115.32 ]],\n",
       "\n",
       "        [[135.061, 122.221, 115.32 ],\n",
       "         [135.061, 122.221, 115.32 ],\n",
       "         [135.061, 122.221, 115.32 ],\n",
       "         ...,\n",
       "         [135.061, 122.221, 115.32 ],\n",
       "         [135.061, 122.221, 115.32 ],\n",
       "         [135.061, 122.221, 115.32 ]],\n",
       "\n",
       "        [[135.061, 122.221, 115.32 ],\n",
       "         [135.061, 122.221, 115.32 ],\n",
       "         [135.061, 122.221, 115.32 ],\n",
       "         ...,\n",
       "         [135.061, 122.221, 115.32 ],\n",
       "         [135.061, 122.221, 115.32 ],\n",
       "         [135.061, 122.221, 115.32 ]]]], dtype=float32)"
      ]
     },
     "execution_count": 10,
     "metadata": {},
     "output_type": "execute_result"
    }
   ],
   "source": [
    "preprocessing_img = preprocess_input(expanded_img_array)  # Batch of image is preprocessed which comes in Reset ( Preprocessing )\n",
    "print(expanded_img_array.shape)                           # Input needs to be converted RGB to BGR - Colorcentered and zero centered\n",
    "preprocessing_img"
   ]
  },
  {
   "cell_type": "code",
   "execution_count": 11,
   "id": "666467cd",
   "metadata": {},
   "outputs": [
    {
     "name": "stdout",
     "output_type": "stream",
     "text": [
      "1/1 [==============================] - 1s 1s/step\n"
     ]
    },
    {
     "data": {
      "text/plain": [
       "array([[6.774972 , 8.687267 , 2.3820698, ..., 1.2814876, 1.2573717,\n",
       "        4.1461544]], dtype=float32)"
      ]
     },
     "execution_count": 11,
     "metadata": {},
     "output_type": "execute_result"
    }
   ],
   "source": [
    "model.predict(preprocessing_img)  # we get a numpy array"
   ]
  },
  {
   "cell_type": "code",
   "execution_count": 12,
   "id": "f29c5372",
   "metadata": {},
   "outputs": [
    {
     "name": "stdout",
     "output_type": "stream",
     "text": [
      "1/1 [==============================] - 0s 93ms/step\n"
     ]
    },
    {
     "data": {
      "text/plain": [
       "(1, 2048)"
      ]
     },
     "execution_count": 12,
     "metadata": {},
     "output_type": "execute_result"
    }
   ],
   "source": [
    "model.predict(preprocessing_img).shape"
   ]
  },
  {
   "cell_type": "code",
   "execution_count": 16,
   "id": "11355dda",
   "metadata": {},
   "outputs": [
    {
     "name": "stdout",
     "output_type": "stream",
     "text": [
      "1/1 [==============================] - 0s 99ms/step\n"
     ]
    },
    {
     "data": {
      "text/plain": [
       "(2048,)"
      ]
     },
     "execution_count": 16,
     "metadata": {},
     "output_type": "execute_result"
    }
   ],
   "source": [
    "model.predict(preprocessing_img).flatten().shape  # to ceovert to 1D array"
   ]
  },
  {
   "cell_type": "code",
   "execution_count": null,
   "id": "fb33cf40",
   "metadata": {},
   "outputs": [
    {
     "name": "stdout",
     "output_type": "stream",
     "text": [
      "1/1 [==============================] - 0s 92ms/step\n",
      "1/1 [==============================] - 0s 96ms/step\n"
     ]
    }
   ],
   "source": [
    "# we normalize the value i.e. between 0-1\n",
    "from numpy.linalg import norm\n",
    "norm(model.predict(preprocessing_img).flatten())\n",
    "model.predict(model.predict(preprocessing_img).flatten())/norm(model.predict(model.predict(preprocessing_img).flatten()))"
   ]
  },
  {
   "cell_type": "code",
   "execution_count": 13,
   "id": "944a00e1",
   "metadata": {},
   "outputs": [],
   "source": [
    "from numpy.linalg import norm\n",
    "import numpy as np"
   ]
  },
  {
   "cell_type": "code",
   "execution_count": null,
   "id": "7361bd91",
   "metadata": {},
   "outputs": [
    {
     "name": "stdout",
     "output_type": "stream",
     "text": [
      "1/1 [==============================] - 0s 98ms/step\n"
     ]
    }
   ],
   "source": [
    "model.predict(model.predict(preprocessing_img).flatten())/norm(model.predict(model.predict(preprocessing_img).flatten()))"
   ]
  },
  {
   "cell_type": "code",
   "execution_count": null,
   "id": "40e212c3",
   "metadata": {},
   "outputs": [],
   "source": [
    "np.sqrt(model.predict(model.predict(preprocessing_img).flatten())/norm(model.predict(model.predict(preprocessing_img).flatten())))"
   ]
  },
  {
   "cell_type": "code",
   "execution_count": null,
   "id": "51dbdb0b",
   "metadata": {},
   "outputs": [],
   "source": []
  }
 ],
 "metadata": {
  "kernelspec": {
   "display_name": "Python 3 (ipykernel)",
   "language": "python",
   "name": "python3"
  },
  "language_info": {
   "codemirror_mode": {
    "name": "ipython",
    "version": 3
   },
   "file_extension": ".py",
   "mimetype": "text/x-python",
   "name": "python",
   "nbconvert_exporter": "python",
   "pygments_lexer": "ipython3",
   "version": "3.11.5"
  }
 },
 "nbformat": 4,
 "nbformat_minor": 5
}
